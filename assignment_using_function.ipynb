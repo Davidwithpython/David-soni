{
  "nbformat": 4,
  "nbformat_minor": 0,
  "metadata": {
    "colab": {
      "provenance": [],
      "gpuType": "T4",
      "authorship_tag": "ABX9TyPlMqgF69Il73Cpi4udHwVx",
      "include_colab_link": true
    },
    "kernelspec": {
      "name": "python3",
      "display_name": "Python 3"
    },
    "language_info": {
      "name": "python"
    },
    "accelerator": "GPU"
  },
  "cells": [
    {
      "cell_type": "markdown",
      "metadata": {
        "id": "view-in-github",
        "colab_type": "text"
      },
      "source": [
        "<a href=\"https://colab.research.google.com/github/Davidwithpython/David-soni/blob/main/assignment_using_function.ipynb\" target=\"_parent\"><img src=\"https://colab.research.google.com/assets/colab-badge.svg\" alt=\"Open In Colab\"/></a>"
      ]
    },
    {
      "cell_type": "markdown",
      "source": [
        "**Display all even number between 1 to 100 in horizontally using function ? without using condition statement?**"
      ],
      "metadata": {
        "id": "dO7AWN6Eyylw"
      }
    },
    {
      "cell_type": "code",
      "execution_count": 2,
      "metadata": {
        "colab": {
          "base_uri": "https://localhost:8080/"
        },
        "id": "pvTBX8H1si36",
        "outputId": "080a9520-476d-4945-b733-21a059c97bf9"
      },
      "outputs": [
        {
          "output_type": "stream",
          "name": "stdout",
          "text": [
            "enter how many numbers even between 2 and this number100\n",
            "2 4 6 8 10 12 14 16 18 20 22 24 26 28 30 32 34 36 38 40 42 44 46 48 50 52 54 56 58 60 62 64 66 68 70 72 74 76 78 80 82 84 86 88 90 92 94 96 98 100 "
          ]
        }
      ],
      "source": [
        "def even(n):\n",
        "  i=2\n",
        "  while i<=n:\n",
        "    print(i,end=\" \")\n",
        "    i+=2\n",
        "n=int(input(\"enter how many numbers even between 2 and this number=\"))\n",
        "even(n)\n"
      ]
    },
    {
      "cell_type": "markdown",
      "source": [
        "**Display all odd numbers between 1 to 100 i horizontally using function ? without using condition statement?**"
      ],
      "metadata": {
        "id": "bJzBPOl9vdO4"
      }
    },
    {
      "cell_type": "code",
      "source": [
        "def odd(n):\n",
        "  i=1\n",
        "  while i<=n:\n",
        "    print(i,end=\" \")\n",
        "    i+=2\n",
        "n=int(input(\"enter how many numbers odd between 1 and this number=\"))\n",
        "odd(n)\n"
      ],
      "metadata": {
        "colab": {
          "base_uri": "https://localhost:8080/"
        },
        "id": "evVXgyvUveDy",
        "outputId": "e60fc18c-be6a-4731-e163-5a1cd57c6355"
      },
      "execution_count": 3,
      "outputs": [
        {
          "output_type": "stream",
          "name": "stdout",
          "text": [
            "enter how many numbers odd between 1 and this number=100\n",
            "1 3 5 7 9 11 13 15 17 19 21 23 25 27 29 31 33 35 37 39 41 43 45 47 49 51 53 55 57 59 61 63 65 67 69 71 73 75 77 79 81 83 85 87 89 91 93 95 97 99 "
          ]
        }
      ]
    },
    {
      "cell_type": "markdown",
      "source": [
        "**Enter any number at run time & display factorial of the number.?using function?**"
      ],
      "metadata": {
        "id": "YIImDcJUumXN"
      }
    },
    {
      "cell_type": "code",
      "source": [
        "\n",
        "def fac(n):\n",
        "  i=1\n",
        "  while n>0:\n",
        "    i=n*i\n",
        "    n-=1\n",
        "  return i\n",
        "n=int(input(\"Enter the number which u want factorial=\"))\n",
        "print(\"factorial of number is\",fac(n))"
      ],
      "metadata": {
        "colab": {
          "base_uri": "https://localhost:8080/"
        },
        "id": "TH_f3_TEDjqf",
        "outputId": "0037f1f5-f083-4e02-de5c-c89c243560d3"
      },
      "execution_count": 7,
      "outputs": [
        {
          "output_type": "stream",
          "name": "stdout",
          "text": [
            "Enter the number which u want factorial=5\n",
            "factorial of number is 120\n"
          ]
        }
      ]
    },
    {
      "cell_type": "markdown",
      "source": [
        "**Enter any number at run time & check this no. is prime number or not?using function?**"
      ],
      "metadata": {
        "id": "Bvlt4mWUGa9V"
      }
    },
    {
      "cell_type": "code",
      "source": [
        "def prime():\n",
        "  n=int(input(\"Enter the number=\"))\n",
        "  i=2\n",
        "  while n>i:\n",
        "    if n%i==0:\n",
        "      print( \"not prime\")\n",
        "      break\n",
        "    i+=1\n",
        "  if n==i:\n",
        "      print(\"prime\")\n",
        "prime()\n",
        "\n",
        "\n",
        "\n"
      ],
      "metadata": {
        "colab": {
          "base_uri": "https://localhost:8080/"
        },
        "id": "sC-wtNJnG4pW",
        "outputId": "18810120-3a78-4c46-c714-b0f0a33055f1"
      },
      "execution_count": 10,
      "outputs": [
        {
          "output_type": "stream",
          "name": "stdout",
          "text": [
            "Enter the number=4\n",
            "not prime\n"
          ]
        }
      ]
    },
    {
      "cell_type": "markdown",
      "source": [
        "**Enter any number at run time & display fibonacci series?using function?**"
      ],
      "metadata": {
        "id": "GZN5CmL9REIM"
      }
    },
    {
      "cell_type": "code",
      "source": [
        "n=int(input(\"Enter the number of series u need:\"))\n",
        "def fibo(n):\n",
        "  a=0\n",
        "  b=1\n",
        "  print(a, b,end=\" \")\n",
        "  while n>0:\n",
        "    c=a+b\n",
        "    a=b\n",
        "    b=c\n",
        "    n-=1\n",
        "    print(c,end=\" \")\n",
        "fibo(n)\n"
      ],
      "metadata": {
        "colab": {
          "base_uri": "https://localhost:8080/"
        },
        "id": "Wt7tAzvORfht",
        "outputId": "74a79ef3-2983-43da-971c-108c74c56280"
      },
      "execution_count": 11,
      "outputs": [
        {
          "output_type": "stream",
          "name": "stdout",
          "text": [
            "Enter the number of series u need:10\n",
            "0 1 1 2 3 5 8 13 21 34 55 89 "
          ]
        }
      ]
    },
    {
      "cell_type": "markdown",
      "source": [
        "**Display number between 1 to 100 in horizontally? using function?**"
      ],
      "metadata": {
        "id": "R9MxuJfuTC31"
      }
    },
    {
      "cell_type": "code",
      "source": [
        "def count(n):\n",
        "  i=1\n",
        "  while i<=n:\n",
        "    print(i,end=\" \")\n",
        "    i+=1\n",
        "n= int(input(\"enter the number which u want counting\"))\n",
        "count(n)"
      ],
      "metadata": {
        "colab": {
          "base_uri": "https://localhost:8080/"
        },
        "id": "r4n_ir45TXKX",
        "outputId": "e0721b3c-2d47-489f-b98f-9146d7f5d1f6"
      },
      "execution_count": 12,
      "outputs": [
        {
          "output_type": "stream",
          "name": "stdout",
          "text": [
            "enter the number which u want counting100\n",
            "1 2 3 4 5 6 7 8 9 10 11 12 13 14 15 16 17 18 19 20 21 22 23 24 25 26 27 28 29 30 31 32 33 34 35 36 37 38 39 40 41 42 43 44 45 46 47 48 49 50 51 52 53 54 55 56 57 58 59 60 61 62 63 64 65 66 67 68 69 70 71 72 73 74 75 76 77 78 79 80 81 82 83 84 85 86 87 88 89 90 91 92 93 94 95 96 97 98 99 100 "
          ]
        }
      ]
    }
  ]
}