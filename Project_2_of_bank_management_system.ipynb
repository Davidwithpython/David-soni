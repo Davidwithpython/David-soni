{
  "nbformat": 4,
  "nbformat_minor": 0,
  "metadata": {
    "colab": {
      "provenance": [],
      "authorship_tag": "ABX9TyPwY5NeWFMtjx97sjvc5LgK",
      "include_colab_link": true
    },
    "kernelspec": {
      "name": "python3",
      "display_name": "Python 3"
    },
    "language_info": {
      "name": "python"
    }
  },
  "cells": [
    {
      "cell_type": "markdown",
      "metadata": {
        "id": "view-in-github",
        "colab_type": "text"
      },
      "source": [
        "<a href=\"https://colab.research.google.com/github/Davidwithpython/David-soni/blob/main/Project_2_of_bank_management_system.ipynb\" target=\"_parent\"><img src=\"https://colab.research.google.com/assets/colab-badge.svg\" alt=\"Open In Colab\"/></a>"
      ]
    },
    {
      "cell_type": "code",
      "execution_count": 1,
      "metadata": {
        "colab": {
          "base_uri": "https://localhost:8080/"
        },
        "id": "Geec74ssmjFZ",
        "outputId": "41fe7cd4-3665-4177-b9db-26f4034ca8e5"
      },
      "outputs": [
        {
          "name": "stdout",
          "output_type": "stream",
          "text": [
            "_______________________________________________________________________________________________\n",
            " \t \t \t Bank MANAGEMENT SYSTEM*** \n",
            "_______________________________________________________________________________________________\n",
            " 1. New Customer\n",
            " 2. Existing Customer\n",
            " 3. Exit\n",
            " Please choose any one option:-3\n",
            "Do u want continue(Y/N)n\n"
          ]
        }
      ],
      "source": [
        "k=[]\n",
        "final={}\n",
        "l={\"account no.\":'' , 'Name':'','Address':'','Phone no.':'','Govt Id':'','Account Type':'','Amount':''}\n",
        "def new():\n",
        "  for i in l.keys():\n",
        "    print('Enter ',i,\":\")\n",
        "    j=input()\n",
        "    k.append(j)\n",
        "  global final\n",
        "  final=dict(zip(l,k))\n",
        "  print('Account Created')\n",
        "#final=dict(zip(l,k))\n",
        "def exist():\n",
        "  a=input(\"enter the account number: \")\n",
        "\n",
        "  if a in final.values():\n",
        "    print(\"record is found\")\n",
        "    print(\"1.Check Balance\\n2.Withdraw\\n3.Deposit\")\n",
        "    n=int(input(\"Enter the choice:\"))\n",
        "    if n==1:\n",
        "      check()\n",
        "    if n==2:\n",
        "      withdraw()\n",
        "    if n==3:\n",
        "      dep()\n",
        "  else:\n",
        "    print('record is not found')\n",
        "def check():\n",
        "\n",
        "\n",
        "  print(\"Balance is \",final.get('Amount'))\n",
        "def withdraw():\n",
        "   p=int(input(\"Enter the amount to withdraw:\"))\n",
        "   print(\"----------------------------------------------------------------------------\\nwithdraw successful \")\n",
        "   u=int(final.get('Amount'))\n",
        "   print(\"Available Balance :\",u-p)\n",
        "   final['Amount']=str(u-p)\n",
        "   print(\"--------------------------------------------------------------------------\")\n",
        "def dep():\n",
        "   p=int(input(\"Enter the amount to deposit:\"))\n",
        "   print(\"----------------------------------------------------------------------------\\ndeposit successful \")\n",
        "   u=int(final.get('Amount'))\n",
        "   print(\"Available Balance :\",u+p)\n",
        "   final['Amount']=str(u+p)\n",
        "   print(\"--------------------------------------------------------------------------\")\n",
        "\n",
        "\n",
        "\n",
        "\n",
        "while True:\n",
        "  print(\"_______________________________________________________________________________________________\")\n",
        "  print(\" \\t \\t \\t Bank MANAGEMENT SYSTEM*** \")\n",
        "  print(\"_______________________________________________________________________________________________\")\n",
        "  print(\" 1. New Customer\")\n",
        "  print(\" 2. Existing Customer\")\n",
        "  print(\" 3. Exit\")\n",
        "\n",
        "  n=int(input(\" Please choose any one option:-\"))\n",
        "  if n==1:\n",
        "     new()\n",
        "\n",
        "  elif n==2:\n",
        "    exist()\n",
        "  elif n==3:\n",
        "    exit()\n",
        "  else:\n",
        "    print(\"choices does not exist \")\n",
        "  g=input(\"Do u want continue(Y/N)\")\n",
        "  if g==\"Y\"or g=='y':\n",
        "    continue\n",
        "  else:\n",
        "    break"
      ]
    },
    {
      "cell_type": "code",
      "source": [
        "k=[]\n",
        "final={}\n",
        "for i in range(3):\n",
        "  l={i:{\"account no.\":'' , 'Name':'','Address':'','Phone no.':'','Govt Id':'','Account Type':'','Amount':''}}\n"
      ],
      "metadata": {
        "id": "PeBpDYBts_uT"
      },
      "execution_count": null,
      "outputs": []
    },
    {
      "cell_type": "code",
      "source": [
        "print(\"1.Check Balance\\n2.Withdraw\\n3.Deposit \")"
      ],
      "metadata": {
        "colab": {
          "base_uri": "https://localhost:8080/"
        },
        "id": "_Lc2H_si8_91",
        "outputId": "0566118b-b6e8-4e2f-f4c0-715cefaadfb3"
      },
      "execution_count": null,
      "outputs": [
        {
          "output_type": "stream",
          "name": "stdout",
          "text": [
            "1.Check Balance\n",
            "2.Withdraw\n",
            "3.Deposit \n"
          ]
        }
      ]
    }
  ]
}