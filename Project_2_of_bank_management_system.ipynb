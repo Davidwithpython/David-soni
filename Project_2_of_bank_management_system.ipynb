{
  "nbformat": 4,
  "nbformat_minor": 0,
  "metadata": {
    "colab": {
      "provenance": [],
      "gpuType": "T4",
      "authorship_tag": "ABX9TyMbo2IA6Tk5x0zX/L2av0wY",
      "include_colab_link": true
    },
    "kernelspec": {
      "name": "python3",
      "display_name": "Python 3"
    },
    "language_info": {
      "name": "python"
    },
    "accelerator": "GPU"
  },
  "cells": [
    {
      "cell_type": "markdown",
      "metadata": {
        "id": "view-in-github",
        "colab_type": "text"
      },
      "source": [
        "<a href=\"https://colab.research.google.com/github/Davidwithpython/David-soni/blob/main/Project_2_of_bank_management_system.ipynb\" target=\"_parent\"><img src=\"https://colab.research.google.com/assets/colab-badge.svg\" alt=\"Open In Colab\"/></a>"
      ]
    },
    {
      "cell_type": "code",
      "execution_count": 2,
      "metadata": {
        "colab": {
          "base_uri": "https://localhost:8080/"
        },
        "id": "Geec74ssmjFZ",
        "outputId": "f9b6a782-5403-47dc-96d4-3ba67021f522"
      },
      "outputs": [
        {
          "name": "stdout",
          "output_type": "stream",
          "text": [
            "_______________________________________________________________________________________________\n",
            " \t \t \t Bank MANAGEMENT SYSTEM*** \n",
            "_______________________________________________________________________________________________\n",
            " 1. New Customer\n",
            " 2. Existing Customer\n",
            " 3. Exit\n",
            " Please choose any one option:-1\n",
            "Enter account no. :33\n",
            "Enter Name :\n",
            "Enter Address :\n",
            "Enter Phone no. :\n",
            "Enter Govt Id :\n",
            "Enter Account Type :\n",
            "Enter Amount :200\n",
            "Account Created\n",
            "Do u want continue(Y/N)y\n",
            "_______________________________________________________________________________________________\n",
            " \t \t \t Bank MANAGEMENT SYSTEM*** \n",
            "_______________________________________________________________________________________________\n",
            " 1. New Customer\n",
            " 2. Existing Customer\n",
            " 3. Exit\n",
            " Please choose any one option:-3\n",
            "Do u want continue(Y/N)n\n"
          ]
        }
      ],
      "source": [
        "k=[]\n",
        "final={}\n",
        "l={\"account no.\":'' , 'Name':'','Address':'','Phone no.':'','Govt Id':'','Account Type':'','Amount':''}\n",
        "def new():\n",
        "  for i in l.keys():\n",
        "\n",
        "    j=input('Enter %s :'%i)\n",
        "    k.append(j)\n",
        "  global final\n",
        "  final=dict(zip(l,k))\n",
        "  print('Account Created')\n",
        "#final=dict(zip(l,k))\n",
        "def exist():\n",
        "  a=input(\"enter the account number: \")\n",
        "\n",
        "  if a in final.values():\n",
        "    print(\"record is found\")\n",
        "    print(\"1.Check Balance\\n2.Withdraw\\n3.Deposit\")\n",
        "    n=int(input(\"Enter the choice:\"))\n",
        "    if n==1:\n",
        "      check()\n",
        "    if n==2:\n",
        "      withdraw()\n",
        "    if n==3:\n",
        "      dep()\n",
        "  else:\n",
        "    print('record is not found')\n",
        "def check():\n",
        "\n",
        "\n",
        "  print(\"Balance is \",final.get('Amount'))\n",
        "def withdraw():\n",
        "   p=int(input(\"Enter the amount to withdraw:\"))\n",
        "   print(\"----------------------------------------------------------------------------\\nwithdraw successful \")\n",
        "   u=int(final.get('Amount'))\n",
        "   print(\"Available Balance :\",u-p)\n",
        "   final['Amount']=str(u-p)\n",
        "   print(\"--------------------------------------------------------------------------\")\n",
        "def dep():\n",
        "   p=int(input(\"Enter the amount to deposit:\"))\n",
        "   print(\"----------------------------------------------------------------------------\\ndeposit successful \")\n",
        "   u=int(final.get('Amount'))\n",
        "   print(\"Available Balance :\",u+p)\n",
        "   final['Amount']=str(u+p)\n",
        "   print(\"--------------------------------------------------------------------------\")\n",
        "\n",
        "\n",
        "\n",
        "\n",
        "while True:\n",
        "  print(\"_______________________________________________________________________________________________\")\n",
        "  print(\" \\t \\t \\t Bank MANAGEMENT SYSTEM*** \")\n",
        "  print(\"_______________________________________________________________________________________________\")\n",
        "  print(\" 1. New Customer\")\n",
        "  print(\" 2. Existing Customer\")\n",
        "  print(\" 3. Exit\")\n",
        "\n",
        "  n=int(input(\" Please choose any one option:-\"))\n",
        "  if n==1:\n",
        "     new()\n",
        "\n",
        "  elif n==2:\n",
        "    exist()\n",
        "  elif n==3:\n",
        "    exit()\n",
        "  else:\n",
        "    print(\"choices does not exist \")\n",
        "  g=input(\"Do u want continue(Y/N)\")\n",
        "  if g==\"Y\"or g=='y':\n",
        "    continue\n",
        "  else:\n",
        "    break"
      ]
    }
  ]
}