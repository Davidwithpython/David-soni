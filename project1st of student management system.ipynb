{
  "nbformat": 4,
  "nbformat_minor": 0,
  "metadata": {
    "colab": {
      "provenance": [],
      "authorship_tag": "ABX9TyNUqqp1XHleyiFKUeAH2OD/",
      "include_colab_link": true
    },
    "kernelspec": {
      "name": "python3",
      "display_name": "Python 3"
    },
    "language_info": {
      "name": "python"
    },
    "accelerator": "TPU"
  },
  "cells": [
    {
      "cell_type": "markdown",
      "metadata": {
        "id": "view-in-github",
        "colab_type": "text"
      },
      "source": [
        "<a href=\"https://colab.research.google.com/github/Davidwithpython/David-soni/blob/main/project1st%20of%20student%20management%20system.ipynb\" target=\"_parent\"><img src=\"https://colab.research.google.com/assets/colab-badge.svg\" alt=\"Open In Colab\"/></a>"
      ]
    },
    {
      "cell_type": "code",
      "execution_count": 1,
      "metadata": {
        "id": "wjKCmeFyf6jW",
        "colab": {
          "base_uri": "https://localhost:8080/"
        },
        "outputId": "af845513-f752-45a1-8c78-5dfc680f8d4d"
      },
      "outputs": [
        {
          "name": "stdout",
          "output_type": "stream",
          "text": [
            "_______________________________________________________________________________________________\n",
            " ***WELCOME TO STUDENT MANAGEMENT SYSTEM*** \n",
            "_______________________________________________________________________________________________\n",
            " 1. To View Student list\n",
            " 2. To add new list\n",
            " 3. To remove the data\n",
            " 4. To search data\n",
            " 5. Exit\n",
            " Please choose any one option:-1\n",
            "student list is\n",
            "David\n",
            "loue\n",
            "khushboo\n",
            "Riya\n",
            "Do u want continue(Y/N)y\n",
            "_______________________________________________________________________________________________\n",
            " ***WELCOME TO STUDENT MANAGEMENT SYSTEM*** \n",
            "_______________________________________________________________________________________________\n",
            " 1. To View Student list\n",
            " 2. To add new list\n",
            " 3. To remove the data\n",
            " 4. To search data\n",
            " 5. Exit\n",
            " Please choose any one option:-2\n",
            "enter the student name:Dabbu\n",
            "Do u want continue(Y/N)y\n",
            "_______________________________________________________________________________________________\n",
            " ***WELCOME TO STUDENT MANAGEMENT SYSTEM*** \n",
            "_______________________________________________________________________________________________\n",
            " 1. To View Student list\n",
            " 2. To add new list\n",
            " 3. To remove the data\n",
            " 4. To search data\n",
            " 5. Exit\n",
            " Please choose any one option:-3\n",
            "Enter name which u want delete:Soni\n",
            "name doesn't exist\n",
            "Do u want continue(Y/N)y\n",
            "_______________________________________________________________________________________________\n",
            " ***WELCOME TO STUDENT MANAGEMENT SYSTEM*** \n",
            "_______________________________________________________________________________________________\n",
            " 1. To View Student list\n",
            " 2. To add new list\n",
            " 3. To remove the data\n",
            " 4. To search data\n",
            " 5. Exit\n",
            " Please choose any one option:-3\n",
            "Enter name which u want delete:Dabbu\n",
            "sucessful deleted ......\n",
            "Do u want continue(Y/N)n\n"
          ]
        }
      ],
      "source": [
        "l=[\"David\",'loue','khushboo','Riya']\n",
        "def view():\n",
        "  print(\"student list is\")\n",
        "  for i in l:\n",
        "    print(i)\n",
        "def add():\n",
        "  s=input(\"enter the student name:\")\n",
        "  l.append(s)\n",
        "def remove():\n",
        "  s=input(\"Enter name which u want delete:\")\n",
        "  for i in l:\n",
        "    if s==i:\n",
        "      l.remove(s)\n",
        "      f=0\n",
        "      print(\"sucessful deleted ......\")\n",
        "      break\n",
        "    if s != i:\n",
        "      f=1\n",
        "\n",
        "  if f==1:\n",
        "    print(\"name doesn't exist\")\n",
        "\n",
        "\n",
        "\n",
        "def search():\n",
        "  s=input(\"Enter name which u want find:\")\n",
        "  for i in l:\n",
        "    if s==i:\n",
        "      f=0\n",
        "      print(\"sucessful founded ......\")\n",
        "      break\n",
        "    if s != i:\n",
        "      f=1\n",
        "  if f==1:\n",
        "     print(\"not found.....\")\n",
        "\n",
        "\n",
        "\n",
        "while True:\n",
        "  print(\"_______________________________________________________________________________________________\")\n",
        "  print(\" ***WELCOME TO STUDENT MANAGEMENT SYSTEM*** \")\n",
        "  print(\"_______________________________________________________________________________________________\")\n",
        "  print(\" 1. To View Student list\")\n",
        "  print(\" 2. To add new list\")\n",
        "  print(\" 3. To remove the data\")\n",
        "  print(\" 4. To search data\")\n",
        "  print(\" 5. Exit\")\n",
        "\n",
        "  n=int(input(\" Please choose any one option:-\"))\n",
        "  if n==1:\n",
        "    view()\n",
        "  elif n==2:\n",
        "    add()\n",
        "  elif n==3:\n",
        "    remove()\n",
        "  elif n==4:\n",
        "    search()\n",
        "  elif n==5:\n",
        "    exit()\n",
        "  else:\n",
        "    print(\"choices does not existence \")\n",
        "  g=input(\"Do u want continue(Y/N)\")\n",
        "  if g==\"Y\"or g=='y':\n",
        "    continue\n",
        "  else:\n",
        "    break"
      ]
    }
  ]
}