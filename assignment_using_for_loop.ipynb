{
  "nbformat": 4,
  "nbformat_minor": 0,
  "metadata": {
    "colab": {
      "provenance": [],
      "gpuType": "T4",
      "authorship_tag": "ABX9TyO9LFHi3OzgrYqgD3f7m4vb",
      "include_colab_link": true
    },
    "kernelspec": {
      "name": "python3",
      "display_name": "Python 3"
    },
    "language_info": {
      "name": "python"
    },
    "accelerator": "GPU"
  },
  "cells": [
    {
      "cell_type": "markdown",
      "metadata": {
        "id": "view-in-github",
        "colab_type": "text"
      },
      "source": [
        "<a href=\"https://colab.research.google.com/github/Davidwithpython/David-soni/blob/main/assignment_using_for_loop.ipynb\" target=\"_parent\"><img src=\"https://colab.research.google.com/assets/colab-badge.svg\" alt=\"Open In Colab\"/></a>"
      ]
    },
    {
      "cell_type": "markdown",
      "source": [
        "**Display all even number between 1 to 100 in horizontally using for loop ? without using condition statement?**"
      ],
      "metadata": {
        "id": "dO7AWN6Eyylw"
      }
    },
    {
      "cell_type": "code",
      "execution_count": null,
      "metadata": {
        "colab": {
          "base_uri": "https://localhost:8080/"
        },
        "id": "pvTBX8H1si36",
        "outputId": "59b59df9-534b-4ff0-b46d-fdcfd04e60ce"
      },
      "outputs": [
        {
          "output_type": "stream",
          "name": "stdout",
          "text": [
            "2 4 6 8 10 12 14 16 18 20 22 24 26 28 30 32 34 36 38 40 42 44 46 48 50 52 54 56 58 60 62 64 66 68 70 72 74 76 78 80 82 84 86 88 90 92 94 96 98 100 "
          ]
        }
      ],
      "source": [
        "\n",
        "for i in range(2,101,2):\n",
        "  print(i,end=\" \")\n",
        "\n"
      ]
    },
    {
      "cell_type": "markdown",
      "source": [
        "**Display all odd numbers between 1 to 100 i horizontally using for loop ? without using condition statement?**"
      ],
      "metadata": {
        "id": "bJzBPOl9vdO4"
      }
    },
    {
      "cell_type": "code",
      "source": [
        "for i in range(1,100,2):\n",
        "  print(i,end=\" \")"
      ],
      "metadata": {
        "colab": {
          "base_uri": "https://localhost:8080/"
        },
        "id": "evVXgyvUveDy",
        "outputId": "5650c25b-fb1b-43fe-e1bc-e5bec75705b2"
      },
      "execution_count": null,
      "outputs": [
        {
          "output_type": "stream",
          "name": "stdout",
          "text": [
            "1 3 5 7 9 11 13 15 17 19 21 23 25 27 29 31 33 35 37 39 41 43 45 47 49 51 53 55 57 59 61 63 65 67 69 71 73 75 77 79 81 83 85 87 89 91 93 95 97 99 "
          ]
        }
      ]
    },
    {
      "cell_type": "markdown",
      "source": [
        "**Enter any number at run time & display factorial of the number.?using for loop?**"
      ],
      "metadata": {
        "id": "YIImDcJUumXN"
      }
    },
    {
      "cell_type": "code",
      "source": [
        "n=int(input(\"Enter the number which u want factorial=\"))\n",
        "i=1\n",
        "for n in range(n,0,-1):\n",
        "  i=n*i\n",
        "print(\"factorial of number is\",i)\n"
      ],
      "metadata": {
        "colab": {
          "base_uri": "https://localhost:8080/"
        },
        "id": "TH_f3_TEDjqf",
        "outputId": "e9f0ec9b-a98a-41ba-8998-9e07eebffae6"
      },
      "execution_count": null,
      "outputs": [
        {
          "output_type": "stream",
          "name": "stdout",
          "text": [
            "Enter the number which u want factorial=4\n",
            "factorial of number is 24\n"
          ]
        }
      ]
    },
    {
      "cell_type": "markdown",
      "source": [
        "**Enter any number at run time & check this no. is prime number or not?using for loop?**"
      ],
      "metadata": {
        "id": "Bvlt4mWUGa9V"
      }
    },
    {
      "cell_type": "code",
      "source": [
        "n=int(input(\"Enter the number=\"))\n",
        "i=2\n",
        "for i in range(2,n):\n",
        "  if n%i==0:\n",
        "    print( \"not prime\")\n",
        "    break\n",
        "  i+=1\n",
        "if n==i:\n",
        "    print(\"prime\")\n",
        "\n",
        "\n",
        "\n",
        "\n"
      ],
      "metadata": {
        "colab": {
          "base_uri": "https://localhost:8080/"
        },
        "id": "sC-wtNJnG4pW",
        "outputId": "9faed83d-1d77-491d-fd17-56d7389daca1"
      },
      "execution_count": null,
      "outputs": [
        {
          "output_type": "stream",
          "name": "stdout",
          "text": [
            "Enter the number=107\n",
            "prime\n"
          ]
        }
      ]
    },
    {
      "cell_type": "markdown",
      "source": [
        "**Enter any number at run time & display fibonacci series?using for loop?**"
      ],
      "metadata": {
        "id": "GZN5CmL9REIM"
      }
    },
    {
      "cell_type": "code",
      "source": [
        "n=int(input(\"Enter the number of series u need:\"))\n",
        "a=0\n",
        "b=1\n",
        "print(a, b,end=\" \")\n",
        "for n in range(n,1,-1):\n",
        "  c=a+b\n",
        "  a=b\n",
        "  b=c\n",
        "\n",
        "  print(c,end=\" \")\n"
      ],
      "metadata": {
        "colab": {
          "base_uri": "https://localhost:8080/"
        },
        "id": "Wt7tAzvORfht",
        "outputId": "bb021eb3-36fe-4ba3-e277-e891a54489a3"
      },
      "execution_count": null,
      "outputs": [
        {
          "output_type": "stream",
          "name": "stdout",
          "text": [
            "Enter the number of series u need:10\n",
            "0 1 1 2 3 5 8 13 21 34 55 "
          ]
        }
      ]
    },
    {
      "cell_type": "markdown",
      "source": [
        "**Display number between 1 to 100 in horizontally? using for loop?**"
      ],
      "metadata": {
        "id": "R9MxuJfuTC31"
      }
    },
    {
      "cell_type": "code",
      "source": [
        "\n",
        "for i in range(1,101):\n",
        "  print(i,end=\" \")"
      ],
      "metadata": {
        "colab": {
          "base_uri": "https://localhost:8080/"
        },
        "id": "r4n_ir45TXKX",
        "outputId": "913a1237-71e3-446b-e178-0e5ead36f584"
      },
      "execution_count": null,
      "outputs": [
        {
          "output_type": "stream",
          "name": "stdout",
          "text": [
            "1 2 3 4 5 6 7 8 9 10 11 12 13 14 15 16 17 18 19 20 21 22 23 24 25 26 27 28 29 30 31 32 33 34 35 36 37 38 39 40 41 42 43 44 45 46 47 48 49 50 51 52 53 54 55 56 57 58 59 60 61 62 63 64 65 66 67 68 69 70 71 72 73 74 75 76 77 78 79 80 81 82 83 84 85 86 87 88 89 90 91 92 93 94 95 96 97 98 99 100 "
          ]
        }
      ]
    }
  ]
}