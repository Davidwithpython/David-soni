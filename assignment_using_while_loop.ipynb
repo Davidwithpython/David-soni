{
  "nbformat": 4,
  "nbformat_minor": 0,
  "metadata": {
    "colab": {
      "provenance": [],
      "gpuType": "T4",
      "authorship_tag": "ABX9TyMdKALL4FlYUpcrdLYX5mLN",
      "include_colab_link": true
    },
    "kernelspec": {
      "name": "python3",
      "display_name": "Python 3"
    },
    "language_info": {
      "name": "python"
    },
    "accelerator": "GPU"
  },
  "cells": [
    {
      "cell_type": "markdown",
      "metadata": {
        "id": "view-in-github",
        "colab_type": "text"
      },
      "source": [
        "<a href=\"https://colab.research.google.com/github/Davidwithpython/David-soni/blob/main/assignment_using_while_loop.ipynb\" target=\"_parent\"><img src=\"https://colab.research.google.com/assets/colab-badge.svg\" alt=\"Open In Colab\"/></a>"
      ]
    },
    {
      "cell_type": "markdown",
      "source": [
        "**Display all even number between 1 to 100 i horizontally using while loop ? without using condition statement?**"
      ],
      "metadata": {
        "id": "dO7AWN6Eyylw"
      }
    },
    {
      "cell_type": "code",
      "execution_count": 33,
      "metadata": {
        "colab": {
          "base_uri": "https://localhost:8080/"
        },
        "id": "pvTBX8H1si36",
        "outputId": "4aaf8659-9035-4622-a10a-180bd26f5ae4"
      },
      "outputs": [
        {
          "output_type": "stream",
          "name": "stdout",
          "text": [
            "2 4 6 8 10 12 14 16 18 20 22 24 26 28 30 32 34 36 38 40 42 44 46 48 50 52 54 56 58 60 62 64 66 68 70 72 74 76 78 80 82 84 86 88 90 92 94 96 98 100 "
          ]
        }
      ],
      "source": [
        "\n",
        "i=2\n",
        "while i<=100:\n",
        "  print(i,end=\" \")\n",
        "  i+=2\n"
      ]
    },
    {
      "cell_type": "markdown",
      "source": [
        "**Display all odd numbers between 1 to 100 i horizontally using while loop ? without using condition statement?**"
      ],
      "metadata": {
        "id": "bJzBPOl9vdO4"
      }
    },
    {
      "cell_type": "code",
      "source": [
        "i=1\n",
        "while i<=100:\n",
        "  print(i,end=\" \")\n",
        "  i+=2"
      ],
      "metadata": {
        "colab": {
          "base_uri": "https://localhost:8080/"
        },
        "id": "evVXgyvUveDy",
        "outputId": "5faf8115-5872-4e69-aa3a-59d483f327ba"
      },
      "execution_count": 34,
      "outputs": [
        {
          "output_type": "stream",
          "name": "stdout",
          "text": [
            "1 3 5 7 9 11 13 15 17 19 21 23 25 27 29 31 33 35 37 39 41 43 45 47 49 51 53 55 57 59 61 63 65 67 69 71 73 75 77 79 81 83 85 87 89 91 93 95 97 99 "
          ]
        }
      ]
    },
    {
      "cell_type": "markdown",
      "source": [
        "**Enter any number at run time & display factorial of the number.?using while loop?**"
      ],
      "metadata": {
        "id": "YIImDcJUumXN"
      }
    },
    {
      "cell_type": "code",
      "source": [
        "n=int(input(\"Enter the number which u want factorial=\"))\n",
        "i=1\n",
        "while n>0:\n",
        "  i=n*i\n",
        "  n-=1\n",
        "print(\"factorial of number is\",i)\n"
      ],
      "metadata": {
        "colab": {
          "base_uri": "https://localhost:8080/"
        },
        "id": "TH_f3_TEDjqf",
        "outputId": "b04d9159-caa8-44d7-8489-de56f6de2d18"
      },
      "execution_count": 35,
      "outputs": [
        {
          "output_type": "stream",
          "name": "stdout",
          "text": [
            "Enter the number which u want factorial=5\n",
            "factorial of number is 120\n"
          ]
        }
      ]
    },
    {
      "cell_type": "markdown",
      "source": [
        "**Enter any number at run time & check this no. is prime number or not?using while loop?**"
      ],
      "metadata": {
        "id": "Bvlt4mWUGa9V"
      }
    },
    {
      "cell_type": "code",
      "source": [
        "n=int(input(\"Enter the number=\"))\n",
        "i=2\n",
        "flag=0\n",
        "while n>i:\n",
        "  if n%i==0:\n",
        "    print( \"not prime\")\n",
        "    break\n",
        "  i+=1\n",
        "if n==i:\n",
        "    print(\"prime\")\n",
        "\n",
        "\n",
        "\n",
        "\n"
      ],
      "metadata": {
        "colab": {
          "base_uri": "https://localhost:8080/"
        },
        "id": "sC-wtNJnG4pW",
        "outputId": "d640d019-b9d1-4b01-c0be-59e646cae5e8"
      },
      "execution_count": 36,
      "outputs": [
        {
          "output_type": "stream",
          "name": "stdout",
          "text": [
            "Enter the number=100\n",
            "not prime\n"
          ]
        }
      ]
    },
    {
      "cell_type": "markdown",
      "source": [
        "**Enter any number at run time & display fibonacci series?using while loop?**"
      ],
      "metadata": {
        "id": "GZN5CmL9REIM"
      }
    },
    {
      "cell_type": "code",
      "source": [
        "n=int(input(\"Enter the number of series u need:\"))\n",
        "a=0\n",
        "b=1\n",
        "print(a, b,end=\" \")\n",
        "while n>0:\n",
        "  c=a+b\n",
        "  a=b\n",
        "  b=c\n",
        "  n-=1\n",
        "  print(c,end=\" \")\n"
      ],
      "metadata": {
        "colab": {
          "base_uri": "https://localhost:8080/"
        },
        "id": "Wt7tAzvORfht",
        "outputId": "62ac5a8f-906f-4918-8c53-4b27c101ff30"
      },
      "execution_count": 37,
      "outputs": [
        {
          "output_type": "stream",
          "name": "stdout",
          "text": [
            "Enter the number of series u need:8\n",
            "0 1 1 2 3 5 8 13 21 34 "
          ]
        }
      ]
    },
    {
      "cell_type": "markdown",
      "source": [
        "**Display number between 1 to 100 in horizontally? using while loop?**"
      ],
      "metadata": {
        "id": "R9MxuJfuTC31"
      }
    },
    {
      "cell_type": "code",
      "source": [
        "i=1\n",
        "while i<=100:\n",
        "  print(i,end=\" \")\n",
        "  i+=1"
      ],
      "metadata": {
        "colab": {
          "base_uri": "https://localhost:8080/"
        },
        "id": "r4n_ir45TXKX",
        "outputId": "f83a7a12-bb7b-43df-dac2-914ba547ffa6"
      },
      "execution_count": 38,
      "outputs": [
        {
          "output_type": "stream",
          "name": "stdout",
          "text": [
            "1 2 3 4 5 6 7 8 9 10 11 12 13 14 15 16 17 18 19 20 21 22 23 24 25 26 27 28 29 30 31 32 33 34 35 36 37 38 39 40 41 42 43 44 45 46 47 48 49 50 51 52 53 54 55 56 57 58 59 60 61 62 63 64 65 66 67 68 69 70 71 72 73 74 75 76 77 78 79 80 81 82 83 84 85 86 87 88 89 90 91 92 93 94 95 96 97 98 99 100 "
          ]
        }
      ]
    }
  ]
}